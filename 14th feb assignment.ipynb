{
 "cells": [
  {
   "cell_type": "code",
   "execution_count": 1,
   "id": "8c095981-fb22-45a6-9935-b997a3ed88ef",
   "metadata": {},
   "outputs": [
    {
     "data": {
      "text/plain": [
       "\"\\n--->Multithreading refers to concurrently executing multiple threads by rapidly\\n---> Multithreading is the ability of a program or an operating system to enable more than one user at a time without requiring multiple copies of the program running on the computer. \\n\\n----> 'threading' module is used to handle threading in python.\\n\""
      ]
     },
     "execution_count": 1,
     "metadata": {},
     "output_type": "execute_result"
    }
   ],
   "source": [
    "#1) What is multithreading in python? why is it used? Name the module used to handle threads in python\n",
    "'''\n",
    "--->Multithreading refers to concurrently executing multiple threads by rapidly\n",
    "---> Multithreading is the ability of a program or an operating system to enable more than one user at a time without requiring multiple copies of the program running on the computer. \n",
    "\n",
    "----> 'threading' module is used to handle threading in python.\n",
    "'''"
   ]
  },
  {
   "cell_type": "code",
   "execution_count": 2,
   "id": "18779947-7e37-401c-8e39-dbbe4a432a6a",
   "metadata": {},
   "outputs": [
    {
     "data": {
      "text/plain": [
       "\"\\n---> It allows threads to communicate and share resources such as files, data, and memory to the same processor.\\n\\n1) activeCount()\\n---> The activeCount() method of thread class is used to return the number of active threads in the current thread's thread group.\\n\\n2) currentThread()\\n---> The currentThread() method of thread class is used to return a reference to the currently executing thread object.\\n\\n3) enumerate)\\n---> enumerate() returns a list of all Thread objects currently alive.\\n\""
      ]
     },
     "execution_count": 2,
     "metadata": {},
     "output_type": "execute_result"
    }
   ],
   "source": [
    "#2) Why threading module used? Write the use of the following functions\n",
    "'''\n",
    "---> It allows threads to communicate and share resources such as files, data, and memory to the same processor.\n",
    "\n",
    "1) activeCount()\n",
    "---> The activeCount() method of thread class is used to return the number of active threads in the current thread's thread group.\n",
    "\n",
    "2) currentThread()\n",
    "---> The currentThread() method of thread class is used to return a reference to the currently executing thread object.\n",
    "\n",
    "3) enumerate)\n",
    "---> enumerate() returns a list of all Thread objects currently alive.\n",
    "'''"
   ]
  },
  {
   "cell_type": "code",
   "execution_count": 3,
   "id": "154924b9-f66a-4777-a639-485dab01347b",
   "metadata": {},
   "outputs": [
    {
     "data": {
      "text/plain": [
       "'\\n1) run()\\n---> The run() method of thread class is called if the thread was constructed using a separate Runnable object .\\n\\n2) start()\\n---> start() method is used to initiate the activity of a thread.\\n\\n3) join()\\n---> it used to join threads.\\n\\n4) isAlive\\n--> It is used to check that the thread is alive or not.\\n'"
      ]
     },
     "execution_count": 3,
     "metadata": {},
     "output_type": "execute_result"
    }
   ],
   "source": [
    "#3) Explain the following functions\n",
    "'''\n",
    "1) run()\n",
    "---> The run() method of thread class is called if the thread was constructed using a separate Runnable object .\n",
    "\n",
    "2) start()\n",
    "---> start() method is used to initiate the activity of a thread.\n",
    "\n",
    "3) join()\n",
    "---> it used to join threads.\n",
    "\n",
    "4) isAlive\n",
    "--> It is used to check that the thread is alive or not.\n",
    "'''"
   ]
  },
  {
   "cell_type": "code",
   "execution_count": 2,
   "id": "f0ddd37a-4ce5-402e-a32f-2321e6c461d3",
   "metadata": {},
   "outputs": [
    {
     "name": "stdin",
     "output_type": "stream",
     "text": [
      "Enter a number :  4\n"
     ]
    },
    {
     "name": "stdout",
     "output_type": "stream",
     "text": [
      "0\n",
      "1\n",
      "4\n",
      "9\n",
      "0\n",
      "1\n",
      "8\n",
      "27\n"
     ]
    }
   ],
   "source": [
    "#4) Write a python program to create two threads. Thread one must print the list of squares and thread two must print the list of cubes\n",
    "\n",
    "import threading\n",
    "\n",
    "def doSquare(n):\n",
    "    print(n**2)\n",
    "    \n",
    "def doCube(n):\n",
    "    print(n**3)\n",
    "\n",
    "num = int(input('Enter a number : '))\n",
    "\n",
    "th1=[threading.Thread(target=doSquare,args=(i,))for i in range(num)]\n",
    "\n",
    "th2=[threading.Thread(target=doCube,args=(i,))for i in range(num)]\n",
    "\n",
    "for t in th1:\n",
    "    t.start()\n",
    "\n",
    "for t in th2:\n",
    "    t.start()\n"
   ]
  },
  {
   "cell_type": "code",
   "execution_count": 3,
   "id": "737bb4ea-f238-4d6c-8b22-5e0797255f59",
   "metadata": {},
   "outputs": [
    {
     "data": {
      "text/plain": [
       "'\\n---> Advantages\\n1) Improved performance and concurrency\\n2) Simplified coding of remote procedure calls and conversations\\n3) Simultaneous access to multiple applications\\n4) Reduced number of required servers\\n\\n---> Disadvantages\\n1) Difficulty of writing code\\n2) Difficulty of debugging\\n3) Difficulty of managing concurrency\\n4) Difficulty of testing\\n5) Difficulty of porting existing code\\n'"
      ]
     },
     "execution_count": 3,
     "metadata": {},
     "output_type": "execute_result"
    }
   ],
   "source": [
    "#5) State advantages and disadvantages of multithreading\n",
    "'''\n",
    "---> Advantages\n",
    "1) Improved performance and concurrency\n",
    "2) Simplified coding of remote procedure calls and conversations\n",
    "3) Simultaneous access to multiple applications\n",
    "4) Reduced number of required servers\n",
    "\n",
    "---> Disadvantages\n",
    "1) Difficulty of writing code\n",
    "2) Difficulty of debugging\n",
    "3) Difficulty of managing concurrency\n",
    "4) Difficulty of testing\n",
    "5) Difficulty of porting existing code\n",
    "'''\n"
   ]
  },
  {
   "cell_type": "code",
   "execution_count": null,
   "id": "a8a0a570-9410-4a17-b1c5-daa5bf3be09e",
   "metadata": {},
   "outputs": [],
   "source": [
    "#6) Explain deadlocks and race conditions.\n",
    "'''\n",
    "1) Deadlock\n",
    "\n",
    "---> Two threads hold locks on different resources, each waiting indefinitely for the other to release its lock.\n",
    "\n",
    "2) Race\n",
    "\n",
    "---> Two (or more) threads alter the state of a shared resource concurrently, leaving it in an unpredictable state."
   ]
  }
 ],
 "metadata": {
  "kernelspec": {
   "display_name": "Python 3 (ipykernel)",
   "language": "python",
   "name": "python3"
  },
  "language_info": {
   "codemirror_mode": {
    "name": "ipython",
    "version": 3
   },
   "file_extension": ".py",
   "mimetype": "text/x-python",
   "name": "python",
   "nbconvert_exporter": "python",
   "pygments_lexer": "ipython3",
   "version": "3.10.6"
  }
 },
 "nbformat": 4,
 "nbformat_minor": 5
}
